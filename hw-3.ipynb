{
 "cells": [
  {
   "cell_type": "code",
   "execution_count": null,
   "metadata": {},
   "outputs": [],
   "source": [
    "import numpy as np\n",
    "import matplotlib.pyplot as plt\n",
    "x_values = np.linspace(0,2*np.pi,1000) #from 0 to 2pi inclusive with 1000 values\n",
    "\n",
    "\n",
    "first_function = (5.5*np.cos(2*x_values)+5.5) #our first function\n",
    "\n",
    "second_function = (0.02*np.exp(x_values)) #our second function\n",
    "\n",
    "third_function = (0.25*(x_values**2)+0.1*np.sin(10*x_values)) #our third function\n",
    "\n",
    "creating_figure = plt.figure()\n",
    "plt.xlim([0,2*np.pi]) #set limit of x-axis\n",
    "plt.ylim([-1,10])#set limit of y-axis\n",
    "plt.xlabel(\"Time in ASTR/EART 119\") #set x-axis label\n",
    "plt.ylabel(\"Measures of Awesomeness\") #set y-axis label\n",
    "plt.plot(x_values,first_function) #plot first function\n",
    "plt.plot(x_values,second_function) #plot second function\n",
    "plt.plot(x_values,third_function) #plot third function\n"
   ]
  }
 ],
 "metadata": {
  "kernelspec": {
   "display_name": "Python 3",
   "language": "python",
   "name": "python3"
  },
  "language_info": {
   "codemirror_mode": {
    "name": "ipython",
    "version": 3
   },
   "file_extension": ".py",
   "mimetype": "text/x-python",
   "name": "python",
   "nbconvert_exporter": "python",
   "pygments_lexer": "ipython3",
   "version": "3.7.6"
  }
 },
 "nbformat": 4,
 "nbformat_minor": 4
}
